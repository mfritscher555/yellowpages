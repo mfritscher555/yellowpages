{
 "cells": [
  {
   "cell_type": "code",
   "execution_count": 4,
   "id": "24efb47f",
   "metadata": {},
   "outputs": [],
   "source": [
    "import pandas as pd\n",
    "import pandasql as ps\n",
    "from pandasql import sqldf\n",
    "pysqldf = lambda q: sqldf(q, globals())"
   ]
  },
  {
   "cell_type": "code",
   "execution_count": 3,
   "id": "b7efca98",
   "metadata": {},
   "outputs": [],
   "source": [
    "df = pd.read_csv(\"C:/Users/Matthew/Documents/projects/yellowpages/nolaoutputfile.csv\")"
   ]
  },
  {
   "cell_type": "code",
   "execution_count": 15,
   "id": "8f065d40",
   "metadata": {},
   "outputs": [],
   "source": [
    "df2 = pysqldf(\"SELECT DISTINCT(name), phone_number, address, city_zip FROM df \")\n",
    "df2.to_csv('C:/Users/Matthew/Documents/projects/yellowpages/nolaoutputfile_revised.csv')"
   ]
  },
  {
   "cell_type": "code",
   "execution_count": null,
   "id": "70d04838",
   "metadata": {},
   "outputs": [],
   "source": []
  }
 ],
 "metadata": {
  "kernelspec": {
   "display_name": "Python 3 (ipykernel)",
   "language": "python",
   "name": "python3"
  },
  "language_info": {
   "codemirror_mode": {
    "name": "ipython",
    "version": 3
   },
   "file_extension": ".py",
   "mimetype": "text/x-python",
   "name": "python",
   "nbconvert_exporter": "python",
   "pygments_lexer": "ipython3",
   "version": "3.9.12"
  }
 },
 "nbformat": 4,
 "nbformat_minor": 5
}
